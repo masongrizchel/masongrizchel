{
  "nbformat": 4,
  "nbformat_minor": 0,
  "metadata": {
    "colab": {
      "provenance": [],
      "authorship_tag": "ABX9TyPjb4yKCgQuoUBQNUqS8+Lz",
      "include_colab_link": true
    },
    "kernelspec": {
      "name": "python3",
      "display_name": "Python 3"
    },
    "language_info": {
      "name": "python"
    }
  },
  "cells": [
    {
      "cell_type": "markdown",
      "metadata": {
        "id": "view-in-github",
        "colab_type": "text"
      },
      "source": [
        "<a href=\"https://colab.research.google.com/github/masongrizchel/masongrizchel/blob/main/Placiente_Masong_DS_Project.ipynb\" target=\"_parent\"><img src=\"https://colab.research.google.com/assets/colab-badge.svg\" alt=\"Open In Colab\"/></a>"
      ]
    },
    {
      "cell_type": "markdown",
      "source": [
        "# Notes\n",
        "\n",
        "\n",
        "---\n",
        "\n",
        "\n",
        "## Main questions & goals:\n",
        "*   What are we trying to predict?\n",
        "*   What data do we need?\n",
        "\n",
        "## Background\n",
        "* Research how stock prices and investment behavior are related.\n",
        "* Look at simple examples of stock market prediction models.\n",
        "\n",
        "\n",
        "---\n",
        "\n"
      ],
      "metadata": {
        "id": "gOJj6jGUmyxu"
      }
    }
  ]
}